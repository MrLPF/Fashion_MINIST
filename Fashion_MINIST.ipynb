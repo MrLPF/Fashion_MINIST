{
 "cells": [
  {
   "cell_type": "code",
   "execution_count": 1,
   "metadata": {},
   "outputs": [],
   "source": [
    "# Imports\n",
    "import torch\n",
    "import numpy as np\n",
    "from torch.utils.data import Dataset\n",
    "from sklearn.metrics import accuracy_score, f1_score, confusion_matrix\n",
    "import matplotlib.pyplot as plt\n",
    "import itertools\n",
    "import torch.nn as nn\n",
    "import torch.nn.functional as F\n",
    "import csv"
   ]
  },
  {
   "cell_type": "code",
   "execution_count": 2,
   "metadata": {},
   "outputs": [],
   "source": [
    "# load csv data\n",
    "def load_data(file_path, reshape_images):\n",
    "    with open(file_path) as csvfile:\n",
    "        readCSV = csv.reader(csvfile, delimiter = ',')\n",
    "        lst = []\n",
    "        for row in readCSV:\n",
    "            lst.append(row)\n",
    "        data = np.array(lst)\n",
    "        Y = data[1:, 0].astype(int)\n",
    "        X = data[1:, 1:].astype(int)\n",
    "        if reshape_images == True:\n",
    "            X = X.reshape(X.shape[0], 1, 28, 28)\n",
    "    return X, Y"
   ]
  },
  {
   "cell_type": "code",
   "execution_count": 3,
   "metadata": {},
   "outputs": [
    {
     "data": {
      "image/png": "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\n",
      "text/plain": [
       "<Figure size 432x288 with 1 Axes>"
      ]
     },
     "metadata": {
      "needs_background": "light"
     },
     "output_type": "display_data"
    },
    {
     "data": {
      "image/png": "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\n",
      "text/plain": [
       "<Figure size 432x288 with 1 Axes>"
      ]
     },
     "metadata": {
      "needs_background": "light"
     },
     "output_type": "display_data"
    },
    {
     "data": {
      "image/png": "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\n",
      "text/plain": [
       "<Figure size 432x288 with 1 Axes>"
      ]
     },
     "metadata": {
      "needs_background": "light"
     },
     "output_type": "display_data"
    },
    {
     "data": {
      "image/png": "iVBORw0KGgoAAAANSUhEUgAAAPsAAAEICAYAAACZA4KlAAAABHNCSVQICAgIfAhkiAAAAAlwSFlzAAALEgAACxIB0t1+/AAAADh0RVh0U29mdHdhcmUAbWF0cGxvdGxpYiB2ZXJzaW9uMy4xLjAsIGh0dHA6Ly9tYXRwbG90bGliLm9yZy+17YcXAAATX0lEQVR4nO3db4xc5XXH8e/BXv9bbONdG2dtExNiQkCVcByLpCJKQbTg+A1EIlGgimiV1qkUUFF4EUQg0KpUtGqgVE0jLQ3BpCkphVAQolEcVESDaGJjGWOgBmrsYDA22K6xMbYxPn2xl2YxO89Z5pk7d+Ln95Gs3Z0zz50zd/f4zsy5z33M3RGRY99xTScgIt2hYhcphIpdpBAqdpFCqNhFCqFiFymEil2kECr2wpjZpWa2xsz2mdk2M/t3M/tM5jYfMbM/6lSOUg8Ve0HM7OvA3wJ/CcwFPgz8A3Bhk3lJd5jOoCuDmc0EXgb+0N3/dYz4ZOCvgC9WN90NfMPdD5rZLOAHwKeAicBjwJ+4+1YzuxG4GngbOAzc4e6X1/6E5APTkb0cvw1MAe5rEf8m8GlgMXAmcBZwbRU7Dvg+sJCRVwNvAX8P4O7fBP4TuNzdj1eh9y4VezkGgdfd/XCL+O8Df+7uO9z9NeDPgC8DuPtOd7/X3fe7+17gRuB3upK1dMzEphOQrtkJzDaziS0Kfh6wZdTPW6rbMLNpwC3AMmBWFZ9uZhPc/Z0ac5YO0pG9HI8DB4CLWsRfYeRl+rs+XN0GcBVwGvApd58BfLa63aqv+uDnN4CO7IVw9z1m9i3gO2Z2GPgpIx+q/S5wLnAXcK2ZrWakeL8F/FM1fDoj79P/18wGgOuP2vx24JT6n4Xk0JG9IO5+M/B1Rj54ew14Cbgc+DfgL4A1wHrgKWBtdRuMtOumAq8D/wX85KhN3wpcbGa7zezvan4a0ia13kQKoSO7SCFU7CKFULGLFELFLlKIrrbezEyfBtZgypQpLWOnn356cuxbb72V9djRB7z9/f0tY08//XRy7MGDB9vKqXTubmPdnlXsZraMkbbLBOAf3f2mnO31MrMx918YAzhy5Ein03mPRYsWtYw99thjybEbNmxIxqPc33knfQLdkiVLWsYWL16cHLtx48ZkPJL6vRx3XPpFbfS8ot95L3a52n4Zb2YTgO8AnwPOAC4xszM6lZiIdFbOe/azgBfcfZO7HwJ+hOZFi/SsnGKfz8gZWO/aWt32Hma2oroyypqMxxKRTDnv2cd60/K+NyruPgwMgz6gE2lSzpF9K3DSqJ8X8OtZUiLSY3KKfTVwqpl9xMwmAV8CHuhMWiLSaVkTYcxsOSMzoiYAt7v7jcH9e/Zl/IQJE5LxqBVTp8mTJyfj993X6kpTsGzZsuTYN998Mxnft29fMj4wMJCMp/br+vXrk2PPPffcZHzPnj3JeI6JE9PvcKO/hyZbb7X02d39IeChnG2ISHfodFmRQqjYRQqhYhcphIpdpBAqdpFCqNhFCtHVC0422Wevc0piNFXziiuuSMYvvvjiZHzGjBnJ+K5du1rG9u/fnxy7c+fOZHzWrFnJ+OrVq5PxM888s2XshBNOSI7t6+tLxqNzI4aHh1vGrrrqquTYSDRFtu5pzSmt+uw6sosUQsUuUggVu0ghVOwihVCxixRCxS5SiGOm9ZY7RTV1OWaARx55pGXs4x//eHJsJJpmGl1SOfU7jJ5X1JLcu3dvMh7t16lTp7aMHT481jLxvxb9baa2DenW3ubNm5Njly9fnoy/9NJLyXiT1HoTKZyKXaQQKnaRQqjYRQqhYhcphIpdpBAqdpFCHDN99ly33XZbMn7ppZe2jG3dujXrsaNzBKLplKleedTLji5THU2BnTt3bjKeWhI6+tuL4tE00kOHDrWMDQ0NJcc++eSTyfh5552XjDdJfXaRwqnYRQqhYhcphIpdpBAqdpFCqNhFCqFiFymE+uyV5557LhlPzZ1O9XMhnvMdLQ8cxVPLKkdzvqPcduzYkYwvXLgwGU/12aM+eTTXPjr/IBWPzj/o7+9Pxj/2sY8l49FS13WqZclmM9sM7AXeAQ67+9Kc7YlIfbKKvXKuu7/ege2ISI30nl2kELnF7sBPzewJM1sx1h3MbIWZrTGzNZmPJSIZcl/Gn+3ur5jZicAqM/tvd3909B3cfRgYht7+gE7kWJd1ZHf3V6qvO4D7gLM6kZSIdF7bxW5m/WY2/d3vgfOBDZ1KTEQ6K+dl/FzgvqoXOhH4Z3f/SUeyqkE0f3lwcDAZTy19HPXBo152dF34qI+fym3SpEnJsVE8yj3qV6dEffJUjx7iufipc0iix545c2YyvmzZsmT8nnvuScab0Haxu/smoPXi2yLSU9R6EymEil2kECp2kUKo2EUKoWIXKUQnJsL8Rpg/f34ynjNdMhqbao1BfCnpqD2WakFFrbNoGum0adOS8ei5p55b9NhRay1q+6UeO3cp6zPPTDeierH1piO7SCFU7CKFULGLFELFLlIIFbtIIVTsIoVQsYsUopg++5IlS5LxnMsWR2OjPnp0SeWcaaTRpcKjbUd99Cj3t99+u2Us2m9R7tF+7evraxmLevgHDhxIxi+66KJk/LrrrkvGm6Aju0ghVOwihVCxixRCxS5SCBW7SCFU7CKFULGLFKKYPvuiRYuS8aifHPWEU6J+cJ1LE0d98Cge5R71wlPbj7YdxSOpPnu0T6PLe59wwglt5dQkHdlFCqFiFymEil2kECp2kUKo2EUKoWIXKYSKXaQQxfTZFyxYkIxH11fPmc9eZw8f0r3s3G1H43Pm8kdjU31yyJ9rnxJdq3/Lli1tb7sp4ZHdzG43sx1mtmHUbQNmtsrMnq++zqo3TRHJNZ6X8XcAR688fzXwsLufCjxc/SwiPSwsdnd/FNh11M0XAiur71cC6Wv0iEjj2n3PPtfdtwG4+zYzO7HVHc1sBbCizccRkQ6p/QM6dx8GhgHMLD1rQkRq027rbbuZDQFUX3d0LiURqUO7xf4AcFn1/WXA/Z1JR0TqEr6MN7O7gHOA2Wa2FbgeuAm428y+AvwK+EKdSXbCvHnzkvGca7NH866jHn7udeVzeunRfPSolx1J5RZtO3XNecibD597/sDQ0FAy3ovCYnf3S1qEzutwLiJSI50uK1IIFbtIIVTsIoVQsYsUQsUuUohipriefPLJyXjU5pk4sfWuiqZiRq23aDplzlTNSNR6Sz3v8YzPEbXmonZpzqWoo9/ZwMBA29tuio7sIoVQsYsUQsUuUggVu0ghVOwihVCxixRCxS5SiGL67IODg8n47t27k/HJkyd3Mp33qLNXHW27yUtNR73sKVOmJOOHDh1q+7Fzl2yO/p56kY7sIoVQsYsUQsUuUggVu0ghVOwihVCxixRCxS5SiGL67P39/cn4zp07a3vs3EtN19mHj/rkuX36nD5+7lLXqfHRNQT279+f9di9SEd2kUKo2EUKoWIXKYSKXaQQKnaRQqjYRQqhYhcpRDF99qgvGvW6U/GpU6cmx0bXfc/tJ9cptw+fs+0oHl2vP3V+Q/T7zhXlFq1TUIfwyG5mt5vZDjPbMOq2G8zsZTNbV/1bXm+aIpJrPC/j7wCWjXH7Le6+uPr3UGfTEpFOC4vd3R8FdnUhFxGpUc4HdJeb2frqZf6sVncysxVmtsbM1mQ8lohkarfYvwt8FFgMbAO+3eqO7j7s7kvdfWmbjyUiHdBWsbv7dnd/x92PALcBZ3U2LRHptLaK3cyGRv34eWBDq/uKSG8I++xmdhdwDjDbzLYC1wPnmNliwIHNwFdrzLEron5xai3waL56tO2oD9/Lc6frvG58FM957Jy58OMxf/78ZHzz5s1Z229HWOzufskYN3+vhlxEpEY6XVakECp2kUKo2EUKoWIXKYSKXaQQx8wU1zlz5mSNnzgxvStSrZqodRbp5dZaJKd9FrUso/2a89jRFNTc3+m8efOS8SZabzqyixRCxS5SCBW7SCFU7CKFULGLFELFLlIIFbtIIY6ZPvvAwEDW+GhKY6onfODAgazHzl0WuU5RbtF+S/W667xMdfTYuVNYIzNnzqx1++3QkV2kECp2kUKo2EUKoWIXKYSKXaQQKnaRQqjYRQpxzPTZBwcHs8ZHPd3+/v6WsdRlpiG/n5zTZ4+2Hc3jz+2z58hd6jr1e4mWTI7m2kfUZxeRxqjYRQqhYhcphIpdpBAqdpFCqNhFCqFiFynEeJZsPgm4E/gQcAQYdvdbzWwA+BfgZEaWbf6iu++uL9W0WbNmZY3PmTv9zDPPJONDQ0PJeO41ylO51z1vO+c6ADnLZANMnz49Gd+0aVPL2JQpU5Jjc88/mDp1ajLehPH8JRwGrnL304FPA18zszOAq4GH3f1U4OHqZxHpUWGxu/s2d19bfb8XeBaYD1wIrKzuthK4qK4kRSTfB3qNZ2YnA58AfgHMdfdtMPIfAnBip5MTkc4Z97nxZnY8cC9wpbu/Md7ztc1sBbCivfREpFPGdWQ3sz5GCv2H7v7j6ubtZjZUxYeAHWONdfdhd1/q7ks7kbCItCcsdhs5hH8PeNbdbx4VegC4rPr+MuD+zqcnIp0ynpfxZwNfBp4ys3XVbdcANwF3m9lXgF8BX6gnxfE58cS8jwyiKY2HDh1qGfvZz36WHHvllVcm46+++moyHrW3Uq27SZMmJcdGyx5H7a8onmphRWOj3KL22a5du1rGZsyYkRwbtUujt7G9OMU1LHZ3/znQ6pmd19l0RKQuOoNOpBAqdpFCqNhFCqFiFymEil2kECp2kUIcM5eSjqaJRlMSp02bloynesIPPvhgcuy1116bjEf95JzLOUfbjnr4fX19yXiUW+qSzdG5DTmX9wZ4+eWX2x67YMGCZDz6ezv++OOT8SboyC5SCBW7SCFU7CKFULGLFELFLlIIFbtIIVTsIoU4ZvrsAwMDyfj27duT8ajnm7o08MGDB5NjI7l99pTcy1RH46Olj1Pjo/nskT179iTja9eubRmbM2dOcmw0Xz01Vx7UZxeRBqnYRQqhYhcphIpdpBAqdpFCqNhFCqFiFylEMX32aN52FN+9u/Vq1G+88UZybGT27NnJeHQOQKonHD2vqNe9f//+ZDxaNnm8y4SNJcot2m+p68pH50bk/r30ot+8jEWkLSp2kUKo2EUKoWIXKYSKXaQQKnaRQqjYRQoR9tnN7CTgTuBDwBFg2N1vNbMbgD8GXqvueo27P1RXormiOeNRL3vLli0tY5s2bUqOPf/885PxqE+fc+333Of9yU9+Mhl//PHHk/HUOuepNe8h7oUPDg4m4/fff3/L2AUXXJAcG4nOAYj2axPGc1LNYeAqd19rZtOBJ8xsVRW7xd3/pr70RKRTwmJ3923Atur7vWb2LDC/7sREpLM+0Ht2MzsZ+ATwi+qmy81svZndbmazWoxZYWZrzGxNVqYikmXcxW5mxwP3Ale6+xvAd4GPAosZOfJ/e6xx7j7s7kvdfWkH8hWRNo2r2M2sj5FC/6G7/xjA3be7+zvufgS4DTirvjRFJFdY7DYybel7wLPufvOo20d/zPp5YEPn0xORThnPp/FnA18GnjKzddVt1wCXmNliwIHNwFdryXCcTjvttGQ8dSloSE+HhHQLKbJq1ar4Tj3ql7/8Zdb4devWxXdqwLx585LxaAnv6BLbp5xyygfOqW7j+TT+58BYk5J7tqcuIu+nM+hECqFiFymEil2kECp2kUKo2EUKoWIXKYTlLAf8gR/MrLYHi/rkixYtSsYnT56cjO/bt69lbOPGjcmxfX19yXj0O4h6ujmXa462HeUWTeVMjc/JO9o2pJ/bwoULk2OjS2RHl9h+8cUXk/E6687dx9yxOrKLFELFLlIIFbtIIVTsIoVQsYsUQsUuUggVu0ghut1nfw0YfU3m2cDrXUvgg+nV3Ho1L1Bu7epkbgvdfc5Yga4W+/se3GxNr16brldz69W8QLm1q1u56WW8SCFU7CKFaLrYhxt+/JReza1X8wLl1q6u5Nboe3YR6Z6mj+wi0iUqdpFCNFLsZrbMzDaa2QtmdnUTObRiZpvN7CkzW9f0+nTVGno7zGzDqNsGzGyVmT1ffR1zjb2GcrvBzF6u9t06M1veUG4nmdl/mNmzZva0mf1pdXuj+y6RV1f2W9ffs5vZBOA54PeArcBq4BJ3f6aribRgZpuBpe7e+AkYZvZZYB9wp7v/VnXbXwO73P2m6j/KWe7+jR7J7QZgX9PLeFerFQ2NXmYcuAj4Axrcd4m8vkgX9lsTR/azgBfcfZO7HwJ+BFzYQB49z90fBXYddfOFwMrq+5WM/LF0XYvceoK7b3P3tdX3e4F3lxlvdN8l8uqKJop9PvDSqJ+30lvrvTvwUzN7wsxWNJ3MGOa6+zYY+eMBTmw4n6OFy3h301HLjPfMvmtn+fNcTRT7WNfH6qX+39nuvgT4HPC16uWqjM+4lvHuljGWGe8J7S5/nquJYt8KnDTq5wXAKw3kMSZ3f6X6ugO4j95binr7uyvoVl93NJzP/+ulZbzHWmacHth3TS5/3kSxrwZONbOPmNkk4EvAAw3k8T5m1l99cIKZ9QPn03tLUT8AXFZ9fxlwf4O5vEevLOPdaplxGt53jS9/7u5d/wcsZ+QT+f8BvtlEDi3yOgV4svr3dNO5AXcx8rLubUZeEX0FGAQeBp6vvg70UG4/AJ4C1jNSWEMN5fYZRt4argfWVf+WN73vEnl1Zb/pdFmRQugMOpFCqNhFCqFiFymEil2kECp2kUKo2EUKoWIXKcT/AZHEgQZkmGvMAAAAAElFTkSuQmCC\n",
      "text/plain": [
       "<Figure size 432x288 with 1 Axes>"
      ]
     },
     "metadata": {
      "needs_background": "light"
     },
     "output_type": "display_data"
    }
   ],
   "source": [
    "# test load data\n",
    "import matplotlib.pyplot as plt\n",
    "class_names = ['T-Shirt', 'Trouser', 'Pullover', 'Dress', 'Coat', 'Sandal', 'Shirt', 'Sneaker', 'Bag', 'Ankle Boot']\n",
    "X, Y = load_data('dataset.csv', False)\n",
    "for i in range(4):\n",
    "    plt.imshow(X[i].reshape(28, 28), cmap='gray')\n",
    "    plt.title(class_names[Y[i]])\n",
    "    plt.show()"
   ]
  },
  {
   "cell_type": "code",
   "execution_count": 4,
   "metadata": {},
   "outputs": [],
   "source": [
    "#Dataset class\n",
    "class FashionMNISTDataset(Dataset):\n",
    "    def __init__(self, file_path, reshape_images):\n",
    "        self.X, self.Y = load_data(file_path, reshape_images)\n",
    "\n",
    "    def __len__(self):\n",
    "        return len(self.X)\n",
    "\n",
    "    def __getitem__(self, index):\n",
    "        return self.X[index], self.Y[index]"
   ]
  },
  {
   "cell_type": "code",
   "execution_count": 5,
   "metadata": {},
   "outputs": [],
   "source": [
    "#Network Architecture 2Conv + 2Pooling + 3Linear\n",
    "class CNNModel(torch.nn.Module):\n",
    "    def __init__(self):\n",
    "        super(CNNModel, self).__init__()\n",
    "        self.cnn1 = nn.Conv2d(in_channels = 1, out_channels = 32, kernel_size = 3, stride = 1, padding = 2)\n",
    "        self.relu1 = nn.ReLU()\n",
    "        nn.init.xavier_uniform_(self.cnn1.weight)\n",
    "\n",
    "        self.maxpool1 = nn.MaxPool2d(kernel_size = 2)\n",
    "\n",
    "        self.cnn2 = nn.Conv2d(in_channels = 32, out_channels = 64, kernel_size = 3, stride = 1, padding = 2)\n",
    "        self.relu2 = nn.ReLU()\n",
    "        nn.init.xavier_uniform_(self.cnn2.weight)\n",
    "\n",
    "        self.maxpool2=nn.MaxPool2d(kernel_size = 2)\n",
    "\n",
    "        self.fc1 = nn.Linear(4096, 2048)\n",
    "        self.relu3 = nn.ReLU()\n",
    "        self.fc2 = nn.Linear(2048, 1024)\n",
    "        self.relu4 = nn.ReLU()\n",
    "        self.fc3 = nn.Linear(1024, 10)\n",
    "\n",
    "\n",
    "    def forward(self, x):\n",
    "        out = self.cnn1(x)\n",
    "        out = self.relu1(out)\n",
    "        out=self.maxpool1(out)\n",
    "        out = self.cnn2(out)\n",
    "        out = self.relu2(out)\n",
    "        out=self.maxpool2(out)\n",
    "        out=out.view(out.size(0),-1)\n",
    "        out = self.fc1(out)\n",
    "        out = self.relu3(out)\n",
    "        out = self.fc2(out)\n",
    "        out = self.relu4(out)\n",
    "        out = self.fc3(out)\n",
    "        return out"
   ]
  },
  {
   "cell_type": "code",
   "execution_count": 6,
   "metadata": {},
   "outputs": [],
   "source": [
    "#Train Function\n",
    "def train(model, data_loader, num_epochs, learning_rate):\n",
    "    criterion = torch.nn.CrossEntropyLoss()\n",
    "    optimizer = torch.optim.Adam(model.parameters(), learning_rate)\n",
    "    for epoch in range(num_epochs):\n",
    "        for i, (images, labels) in enumerate(data_loader):\n",
    "            images = torch.autograd.Variable(images)\n",
    "            labels = torch.autograd.Variable(labels)\n",
    "            optimizer.zero_grad()\n",
    "            outputs = model(images.float())\n",
    "            loss = criterion(outputs, labels.long())\n",
    "            loss.backward()\n",
    "            optimizer.step()\n",
    "\n",
    "            if (i + 1) % 50 == 0:\n",
    "                model.eval()\n",
    "                y_true = []\n",
    "                y_predicted = []\n",
    "                for images, labels in data_loader:\n",
    "                    images = torch.autograd.Variable(images.float())\n",
    "                    outputs = model(images)\n",
    "                    _, predicted = torch.max(outputs.data, 1)\n",
    "                    \n",
    "                    y_true.extend(labels)\n",
    "                    y_predicted.extend(predicted)\n",
    "                print(f'Epoch : {epoch}/{num_epochs}, '\n",
    "                      f'Iteration : {i}/{len(data_loader)},  '\n",
    "                      f'Loss: {loss.item():.4f},',\n",
    "                      f'Train Accuracy: {100.* accuracy_score(y_true, y_predicted):.4f},',\n",
    "                      f'Train F1 Score: {100.* f1_score(y_true, y_predicted, average=\"weighted\"):.4f}')"
   ]
  },
  {
   "cell_type": "code",
   "execution_count": 7,
   "metadata": {},
   "outputs": [],
   "source": [
    "#Define class names and training parameters\n",
    "class_names = ['T-Shirt', 'Trouser', 'Pullover', 'Dress', 'Coat', 'Sandal', 'Shirt', 'Sneaker', 'Bag', 'Ankle Boot']\n",
    "num_epochs = 30\n",
    "batch_size = 256\n",
    "learning_rate = 0.001"
   ]
  },
  {
   "cell_type": "code",
   "execution_count": 8,
   "metadata": {},
   "outputs": [],
   "source": [
    "#Load Data\n",
    "data_loader_reshaped = torch.utils.data.DataLoader(dataset=FashionMNISTDataset('dataset.csv', True), batch_size=batch_size, shuffle=True)"
   ]
  },
  {
   "cell_type": "code",
   "execution_count": 9,
   "metadata": {},
   "outputs": [],
   "source": [
    "model = CNNModel()"
   ]
  },
  {
   "cell_type": "code",
   "execution_count": 10,
<<<<<<< HEAD
   "metadata": {
    "scrolled": false
   },
=======
<<<<<<< HEAD
   "metadata": {
    "scrolled": false
   },
=======
   "metadata": {},
>>>>>>> c90ae8405c16b318d2fa372a4926bea2d13a3ce9
>>>>>>> 50fe8c418b134d58f64829abaea5d77c26dd89e6
   "outputs": [
    {
     "name": "stdout",
     "output_type": "stream",
     "text": [
<<<<<<< HEAD
=======
<<<<<<< HEAD
>>>>>>> 50fe8c418b134d58f64829abaea5d77c26dd89e6
      "Epoch : 0/30, Iteration : 49/79,  Loss: 0.4331, Train Accuracy: 81.5250, Train F1 Score: 81.2636\n",
      "Epoch : 1/30, Iteration : 49/79,  Loss: 0.4292, Train Accuracy: 85.9150, Train F1 Score: 85.5399\n",
      "Epoch : 2/30, Iteration : 49/79,  Loss: 0.2377, Train Accuracy: 90.5250, Train F1 Score: 90.4006\n",
      "Epoch : 3/30, Iteration : 49/79,  Loss: 0.2362, Train Accuracy: 92.1600, Train F1 Score: 92.0907\n",
      "Epoch : 4/30, Iteration : 49/79,  Loss: 0.1796, Train Accuracy: 93.5200, Train F1 Score: 93.5366\n",
      "Epoch : 5/30, Iteration : 49/79,  Loss: 0.1592, Train Accuracy: 94.8850, Train F1 Score: 94.8556\n",
      "Epoch : 6/30, Iteration : 49/79,  Loss: 0.1564, Train Accuracy: 95.4200, Train F1 Score: 95.3781\n",
      "Epoch : 7/30, Iteration : 49/79,  Loss: 0.0905, Train Accuracy: 95.6150, Train F1 Score: 95.5810\n",
      "Epoch : 8/30, Iteration : 49/79,  Loss: 0.1546, Train Accuracy: 97.0900, Train F1 Score: 97.0925\n",
      "Epoch : 9/30, Iteration : 49/79,  Loss: 0.1267, Train Accuracy: 96.9450, Train F1 Score: 96.9468\n",
      "Epoch : 10/30, Iteration : 49/79,  Loss: 0.0470, Train Accuracy: 97.1550, Train F1 Score: 97.1547\n",
      "Epoch : 11/30, Iteration : 49/79,  Loss: 0.0531, Train Accuracy: 98.6100, Train F1 Score: 98.6099\n",
      "Epoch : 12/30, Iteration : 49/79,  Loss: 0.0574, Train Accuracy: 98.6650, Train F1 Score: 98.6622\n",
      "Epoch : 13/30, Iteration : 49/79,  Loss: 0.0340, Train Accuracy: 98.6800, Train F1 Score: 98.6801\n",
      "Epoch : 14/30, Iteration : 49/79,  Loss: 0.0325, Train Accuracy: 98.5350, Train F1 Score: 98.5394\n",
      "Epoch : 15/30, Iteration : 49/79,  Loss: 0.0433, Train Accuracy: 98.1600, Train F1 Score: 98.1732\n",
      "Epoch : 16/30, Iteration : 49/79,  Loss: 0.0418, Train Accuracy: 99.2850, Train F1 Score: 99.2851\n",
      "Epoch : 17/30, Iteration : 49/79,  Loss: 0.0188, Train Accuracy: 99.0950, Train F1 Score: 99.0954\n",
      "Epoch : 18/30, Iteration : 49/79,  Loss: 0.0149, Train Accuracy: 99.2850, Train F1 Score: 99.2826\n",
      "Epoch : 19/30, Iteration : 49/79,  Loss: 0.0211, Train Accuracy: 99.7050, Train F1 Score: 99.7051\n",
      "Epoch : 20/30, Iteration : 49/79,  Loss: 0.0212, Train Accuracy: 99.3350, Train F1 Score: 99.3347\n",
      "Epoch : 21/30, Iteration : 49/79,  Loss: 0.0131, Train Accuracy: 99.5300, Train F1 Score: 99.5299\n",
      "Epoch : 22/30, Iteration : 49/79,  Loss: 0.0921, Train Accuracy: 98.6850, Train F1 Score: 98.6812\n",
      "Epoch : 23/30, Iteration : 49/79,  Loss: 0.0279, Train Accuracy: 99.2650, Train F1 Score: 99.2654\n",
      "Epoch : 24/30, Iteration : 49/79,  Loss: 0.0104, Train Accuracy: 99.6700, Train F1 Score: 99.6698\n",
      "Epoch : 25/30, Iteration : 49/79,  Loss: 0.0291, Train Accuracy: 99.4200, Train F1 Score: 99.4193\n",
      "Epoch : 26/30, Iteration : 49/79,  Loss: 0.0119, Train Accuracy: 99.9250, Train F1 Score: 99.9250\n",
      "Epoch : 27/30, Iteration : 49/79,  Loss: 0.0062, Train Accuracy: 99.9350, Train F1 Score: 99.9350\n",
      "Epoch : 28/30, Iteration : 49/79,  Loss: 0.0069, Train Accuracy: 99.4500, Train F1 Score: 99.4477\n",
      "Epoch : 29/30, Iteration : 49/79,  Loss: 0.0713, Train Accuracy: 99.2650, Train F1 Score: 99.2661\n"
<<<<<<< HEAD
=======
=======
      "Epoch : 0/30, Iteration : 49/79,  Loss: 0.4606, Train Accuracy: 81.2250, Train F1 Score: 80.7246\n",
      "Epoch : 1/30, Iteration : 49/79,  Loss: 0.3202, Train Accuracy: 89.6050, Train F1 Score: 89.6079\n"
     ]
    },
    {
     "ename": "KeyboardInterrupt",
     "evalue": "",
     "output_type": "error",
     "traceback": [
      "\u001b[0;31m---------------------------------------------------------------------------\u001b[0m",
      "\u001b[0;31mKeyboardInterrupt\u001b[0m                         Traceback (most recent call last)",
      "\u001b[0;32m<ipython-input-10-4618afe96ac9>\u001b[0m in \u001b[0;36m<module>\u001b[0;34m\u001b[0m\n\u001b[0;32m----> 1\u001b[0;31m \u001b[0mtrain\u001b[0m\u001b[0;34m(\u001b[0m\u001b[0mmodel\u001b[0m\u001b[0;34m,\u001b[0m \u001b[0mdata_loader_reshaped\u001b[0m\u001b[0;34m,\u001b[0m \u001b[0mnum_epochs\u001b[0m\u001b[0;34m,\u001b[0m \u001b[0mlearning_rate\u001b[0m\u001b[0;34m)\u001b[0m\u001b[0;34m\u001b[0m\u001b[0;34m\u001b[0m\u001b[0m\n\u001b[0m",
      "\u001b[0;32m<ipython-input-6-5960e8f10bea>\u001b[0m in \u001b[0;36mtrain\u001b[0;34m(model, data_loader, num_epochs, learning_rate)\u001b[0m\n\u001b[1;32m     11\u001b[0m             \u001b[0moutputs\u001b[0m \u001b[0;34m=\u001b[0m \u001b[0mmodel\u001b[0m\u001b[0;34m(\u001b[0m\u001b[0mimages\u001b[0m\u001b[0;34m.\u001b[0m\u001b[0mfloat\u001b[0m\u001b[0;34m(\u001b[0m\u001b[0;34m)\u001b[0m\u001b[0;34m)\u001b[0m\u001b[0;34m\u001b[0m\u001b[0;34m\u001b[0m\u001b[0m\n\u001b[1;32m     12\u001b[0m             \u001b[0mloss\u001b[0m \u001b[0;34m=\u001b[0m \u001b[0mcriterion\u001b[0m\u001b[0;34m(\u001b[0m\u001b[0moutputs\u001b[0m\u001b[0;34m,\u001b[0m \u001b[0mlabels\u001b[0m\u001b[0;34m)\u001b[0m\u001b[0;34m\u001b[0m\u001b[0;34m\u001b[0m\u001b[0m\n\u001b[0;32m---> 13\u001b[0;31m             \u001b[0mloss\u001b[0m\u001b[0;34m.\u001b[0m\u001b[0mbackward\u001b[0m\u001b[0;34m(\u001b[0m\u001b[0;34m)\u001b[0m\u001b[0;34m\u001b[0m\u001b[0;34m\u001b[0m\u001b[0m\n\u001b[0m\u001b[1;32m     14\u001b[0m             \u001b[0moptimizer\u001b[0m\u001b[0;34m.\u001b[0m\u001b[0mstep\u001b[0m\u001b[0;34m(\u001b[0m\u001b[0;34m)\u001b[0m\u001b[0;34m\u001b[0m\u001b[0;34m\u001b[0m\u001b[0m\n\u001b[1;32m     15\u001b[0m \u001b[0;34m\u001b[0m\u001b[0m\n",
      "\u001b[0;32m/anaconda3/lib/python3.7/site-packages/torch/tensor.py\u001b[0m in \u001b[0;36mbackward\u001b[0;34m(self, gradient, retain_graph, create_graph)\u001b[0m\n\u001b[1;32m    116\u001b[0m                 \u001b[0mproducts\u001b[0m\u001b[0;34m.\u001b[0m \u001b[0mDefaults\u001b[0m \u001b[0mto\u001b[0m\u001b[0;31m \u001b[0m\u001b[0;31m`\u001b[0m\u001b[0;31m`\u001b[0m\u001b[0;32mFalse\u001b[0m\u001b[0;31m`\u001b[0m\u001b[0;31m`\u001b[0m\u001b[0;34m.\u001b[0m\u001b[0;34m\u001b[0m\u001b[0;34m\u001b[0m\u001b[0m\n\u001b[1;32m    117\u001b[0m         \"\"\"\n\u001b[0;32m--> 118\u001b[0;31m         \u001b[0mtorch\u001b[0m\u001b[0;34m.\u001b[0m\u001b[0mautograd\u001b[0m\u001b[0;34m.\u001b[0m\u001b[0mbackward\u001b[0m\u001b[0;34m(\u001b[0m\u001b[0mself\u001b[0m\u001b[0;34m,\u001b[0m \u001b[0mgradient\u001b[0m\u001b[0;34m,\u001b[0m \u001b[0mretain_graph\u001b[0m\u001b[0;34m,\u001b[0m \u001b[0mcreate_graph\u001b[0m\u001b[0;34m)\u001b[0m\u001b[0;34m\u001b[0m\u001b[0;34m\u001b[0m\u001b[0m\n\u001b[0m\u001b[1;32m    119\u001b[0m \u001b[0;34m\u001b[0m\u001b[0m\n\u001b[1;32m    120\u001b[0m     \u001b[0;32mdef\u001b[0m \u001b[0mregister_hook\u001b[0m\u001b[0;34m(\u001b[0m\u001b[0mself\u001b[0m\u001b[0;34m,\u001b[0m \u001b[0mhook\u001b[0m\u001b[0;34m)\u001b[0m\u001b[0;34m:\u001b[0m\u001b[0;34m\u001b[0m\u001b[0;34m\u001b[0m\u001b[0m\n",
      "\u001b[0;32m/anaconda3/lib/python3.7/site-packages/torch/autograd/__init__.py\u001b[0m in \u001b[0;36mbackward\u001b[0;34m(tensors, grad_tensors, retain_graph, create_graph, grad_variables)\u001b[0m\n\u001b[1;32m     91\u001b[0m     Variable._execution_engine.run_backward(\n\u001b[1;32m     92\u001b[0m         \u001b[0mtensors\u001b[0m\u001b[0;34m,\u001b[0m \u001b[0mgrad_tensors\u001b[0m\u001b[0;34m,\u001b[0m \u001b[0mretain_graph\u001b[0m\u001b[0;34m,\u001b[0m \u001b[0mcreate_graph\u001b[0m\u001b[0;34m,\u001b[0m\u001b[0;34m\u001b[0m\u001b[0;34m\u001b[0m\u001b[0m\n\u001b[0;32m---> 93\u001b[0;31m         allow_unreachable=True)  # allow_unreachable flag\n\u001b[0m\u001b[1;32m     94\u001b[0m \u001b[0;34m\u001b[0m\u001b[0m\n\u001b[1;32m     95\u001b[0m \u001b[0;34m\u001b[0m\u001b[0m\n",
      "\u001b[0;31mKeyboardInterrupt\u001b[0m: "
>>>>>>> c90ae8405c16b318d2fa372a4926bea2d13a3ce9
>>>>>>> 50fe8c418b134d58f64829abaea5d77c26dd89e6
     ]
    }
   ],
   "source": [
    "train(model, data_loader_reshaped, num_epochs, learning_rate)"
   ]
  }
 ],
 "metadata": {
  "kernelspec": {
   "display_name": "Python 3",
   "language": "python",
   "name": "python3"
  },
  "language_info": {
   "codemirror_mode": {
    "name": "ipython",
    "version": 3
   },
   "file_extension": ".py",
   "mimetype": "text/x-python",
   "name": "python",
   "nbconvert_exporter": "python",
   "pygments_lexer": "ipython3",
   "version": "3.7.3"
  }
 },
 "nbformat": 4,
 "nbformat_minor": 2
}
